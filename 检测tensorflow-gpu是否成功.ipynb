{
 "cells": [
  {
   "cell_type": "code",
   "execution_count": 1,
   "id": "ab6f88f7",
   "metadata": {},
   "outputs": [],
   "source": [
    "import tensorflow as tf"
   ]
  },
  {
   "cell_type": "code",
   "execution_count": 3,
   "id": "e5119633",
   "metadata": {},
   "outputs": [
    {
     "name": "stdout",
     "output_type": "stream",
     "text": [
      "2.10.0\n",
      "/device:GPU:0\n",
      "<function set_visible_devices at 0x000001FB14717EE0>\n",
      "GPU: [PhysicalDevice(name='/physical_device:GPU:0', device_type='GPU')]\n",
      "CPU: [PhysicalDevice(name='/physical_device:CPU:0', device_type='CPU')]\n",
      "[PhysicalDevice(name='/physical_device:GPU:0', device_type='GPU')]\n",
      "WARNING:tensorflow:From C:\\Users\\dell\\AppData\\Local\\Temp\\ipykernel_21824\\4078742459.py:7: is_gpu_available (from tensorflow.python.framework.test_util) is deprecated and will be removed in a future version.\n",
      "Instructions for updating:\n",
      "Use `tf.config.list_physical_devices('GPU')` instead.\n",
      "True\n",
      "Num GPUs Available:  1\n"
     ]
    }
   ],
   "source": [
    "print(tf.__version__)\n",
    "print(tf.test.gpu_device_name())\n",
    "print(tf.config.experimental.set_visible_devices)\n",
    "print('GPU:', tf.config.list_physical_devices('GPU'))\n",
    "print('CPU:', tf.config.list_physical_devices(device_type='CPU'))\n",
    "print(tf.config.list_physical_devices('GPU'))\n",
    "print(tf.test.is_gpu_available())\n",
    "# 输出可用的GPU数量\n",
    "print(\"Num GPUs Available: \", len(tf.config.experimental.list_physical_devices('GPU')))\n",
    "# 查询GPU设备\n"
   ]
  },
  {
   "cell_type": "code",
   "execution_count": 7,
   "id": "32a73127",
   "metadata": {},
   "outputs": [
    {
     "name": "stdout",
     "output_type": "stream",
     "text": [
      "cpu: 1.2888044999999693   gpu: 0.011009000000740343\n"
     ]
    }
   ],
   "source": [
    "# 测试GPU运算速度\n",
    "import timeit\n",
    " \n",
    "#指定在cpu上运行\n",
    "def cpu_run():\n",
    "    with tf.device('/cpu:0'):\n",
    "        cpu_a = tf.random.normal([10000, 1000])\n",
    "        cpu_b = tf.random.normal([1000, 2000])\n",
    "        c = tf.matmul(cpu_a, cpu_b)\n",
    "    return c\n",
    " \n",
    "#指定在gpu上运行 \n",
    "def gpu_run():\n",
    "    with tf.device('/gpu:1'):\n",
    "        gpu_a = tf.random.normal([10000, 1000])\n",
    "        gpu_b = tf.random.normal([1000, 2000])\n",
    "        c = tf.matmul(gpu_a, gpu_b)\n",
    "    return c\n",
    "\n",
    "cpu_time = timeit.timeit(cpu_run, number=10)\n",
    "gpu_time = timeit.timeit(gpu_run, number=10)\n",
    "print(\"cpu:\", cpu_time, \"  gpu:\", gpu_time)\n"
   ]
  },
  {
   "cell_type": "code",
   "execution_count": null,
   "id": "91cdc468",
   "metadata": {},
   "outputs": [],
   "source": []
  }
 ],
 "metadata": {
  "kernelspec": {
   "display_name": "my_env",
   "language": "python",
   "name": "my_env"
  },
  "language_info": {
   "codemirror_mode": {
    "name": "ipython",
    "version": 3
   },
   "file_extension": ".py",
   "mimetype": "text/x-python",
   "name": "python",
   "nbconvert_exporter": "python",
   "pygments_lexer": "ipython3",
   "version": "3.9.17"
  }
 },
 "nbformat": 4,
 "nbformat_minor": 5
}
