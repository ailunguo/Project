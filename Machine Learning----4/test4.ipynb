{
 "cells": [
  {
   "cell_type": "code",
   "execution_count": 1,
   "id": "08e46693",
   "metadata": {},
   "outputs": [],
   "source": [
    "from sklearn import svm\n",
    "from sklearn.tree import DecisionTreeClassifier\n",
    "from sklearn.naive_bayes import BernoulliNB\n",
    "from sklearn.calibration import CalibratedClassifierCV\n",
    "\n",
    "def construct_clf(clf_name):\n",
    "    clf = None\n",
    "    if clf_name == 'SVM':\n",
    "        clf = svm.LinearSVC()\n",
    "    elif clf_name == 'DTree' :\n",
    "        clf = DecisionTreeClassifier(max_depth=10, class_weight='balanced')\n",
    "    elif clf_name == 'NB' :\n",
    "        clf = BernoulliNB()\n",
    "    clf = CalibratedClassifierCV(clf, cv=2, method='sigmoid')  # 概率校正\n",
    "    return clf"
   ]
  },
  {
   "cell_type": "code",
   "execution_count": 2,
   "id": "d4944c8a",
   "metadata": {},
   "outputs": [],
   "source": [
    "class Bagging(object):\n",
    "    def __init__(self, clf, num_iter):\n",
    "        self.clf = clf  # 分类器对象\n",
    "        self.num_iter = num_iter  # Bagging 的分类器个数\n",
    "        \n",
    "    def fit_predict(self, X, Y, test_X):\n",
    "#         X = X.values\n",
    "#         Y = Y.values\n",
    "#         test_X = test_X.values\n",
    "        result = np.zeros(test_X.shape[0])  # 记录测试集的预测结果\n",
    "        train_idx = np.arange(len(Y))\n",
    "        for i in range(self.num_iter):\n",
    "            sample_idx = np.random.choice(train_idx, size=len(Y), replace=True)  # Bootstrap\n",
    "            sample_train_X = X[sample_idx]\n",
    "            sample_train_Y = Y[sample_idx]\n",
    "            self.clf.fit(sample_train_X, sample_train_Y)\n",
    "#             print('Model {:>2d} finish!'.format(i))\n",
    "            predict_proba = self.clf.predict_proba(test_X)[:, 1]\n",
    "            result += predict_proba  # 累加不同分类器的预测概率\n",
    "        result /= self.num_iter  # 取平均（投票）\n",
    "        return result"
   ]
  },
  {
   "cell_type": "code",
   "execution_count": 3,
   "id": "dc3f44e2",
   "metadata": {},
   "outputs": [],
   "source": [
    "class AdaBoostM1(object):\n",
    "    def __init__(self, clf, num_iter):\n",
    "        self.clf = clf  # 分类器对象\n",
    "        self.num_iter = num_iter  # 迭代次数\n",
    "        \n",
    "    def fit_predict(self, X, Y, test_X):\n",
    "#         X = X.values\n",
    "#         Y = Y.values\n",
    "#         test_X = test_X.values\n",
    "        result_lst, beta_lst = list(), list()  # 记录每次迭代的预测结果和投票权重\n",
    "        num_samples = len(Y)\n",
    "        weight = np.ones(num_samples)  # 样本权重，注意总和应为 num_samples\n",
    "        for i in range(self.num_iter):\n",
    "            self.clf.fit(X, Y, sample_weight=weight)  # 带权重的 fit\n",
    "#             print('Model {:<2d} finish!'.format(i))\n",
    "            train_predict = self.clf.predict(X)  # 训练集预测结果\n",
    "            error_flag = train_predict != Y  # 预测错误的位置\n",
    "            error = weight[error_flag].sum() / num_samples  # 计算错误率\n",
    "            if error > 0.5:\n",
    "                break\n",
    "            beta = error / (1 - error)\n",
    "            weight *= (1.0 - error_flag) * beta + error_flag  # 调整权重，正确位置乘上 beta，错误位置还是原来的\n",
    "            weight /= weight.sum() / num_samples  # 归一化，让权重和等于 num_samples\n",
    "            beta_lst.append(beta)\n",
    "            predict_proba = self.clf.predict_proba(test_X)[:, 1]\n",
    "            result_lst.append(predict_proba)\n",
    "#             pre = self.clf.predict(test_X)\n",
    "#             result_lst.append(pre)\n",
    "        beta_lst = np.log(1 / np.array(beta_lst))\n",
    "        beta_lst /= beta_lst.sum()  # 归一化投票权重\n",
    "#         print('\\nVote Weight:\\n', beta_lst)\n",
    "        result = (np.array(result_lst) * beta_lst[:, None]).sum(0)  # 每一轮的预测结果加权求和\n",
    "        return result"
   ]
  },
  {
   "cell_type": "code",
   "execution_count": 4,
   "id": "f41ea42f",
   "metadata": {},
   "outputs": [],
   "source": [
    "from sklearn.metrics import roc_auc_score"
   ]
  },
  {
   "cell_type": "code",
   "execution_count": 5,
   "id": "4257e3bc",
   "metadata": {},
   "outputs": [],
   "source": [
    "import warnings\n",
    "warnings.filterwarnings(\"ignore\")"
   ]
  },
  {
   "cell_type": "code",
   "execution_count": 6,
   "id": "7d064364",
   "metadata": {},
   "outputs": [],
   "source": [
    "clf = construct_clf('DTree')"
   ]
  },
  {
   "cell_type": "code",
   "execution_count": 7,
   "id": "7931a92c",
   "metadata": {},
   "outputs": [],
   "source": [
    "clf_svm = AdaBoostM1(clf,10)"
   ]
  },
  {
   "cell_type": "code",
   "execution_count": 8,
   "id": "c9dd3d8f",
   "metadata": {},
   "outputs": [],
   "source": [
    "# 使用sklearn生成二分类数据集\n"
   ]
  },
  {
   "cell_type": "code",
   "execution_count": null,
   "id": "9e9866eb",
   "metadata": {},
   "outputs": [],
   "source": []
  }
 ],
 "metadata": {
  "kernelspec": {
   "display_name": "Python 3 (ipykernel)",
   "language": "python",
   "name": "python3"
  },
  "language_info": {
   "codemirror_mode": {
    "name": "ipython",
    "version": 3
   },
   "file_extension": ".py",
   "mimetype": "text/x-python",
   "name": "python",
   "nbconvert_exporter": "python",
   "pygments_lexer": "ipython3",
   "version": "3.9.12"
  }
 },
 "nbformat": 4,
 "nbformat_minor": 5
}
