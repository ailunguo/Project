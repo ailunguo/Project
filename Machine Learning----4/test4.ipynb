{
 "cells": [
  {
   "cell_type": "code",
   "execution_count": 27,
   "id": "08e46693",
   "metadata": {},
   "outputs": [],
   "source": [
    "from sklearn import svm\n",
    "from sklearn.tree import DecisionTreeClassifier\n",
    "from sklearn.calibration import CalibratedClassifierCV\n",
    "\n",
    "def construct_clf(clf_name):\n",
    "    clf = None\n",
    "    if clf_name == 'SVM':\n",
    "        clf = svm.LinearSVC()\n",
    "    elif clf_name == 'DTree' :\n",
    "        clf = DecisionTreeClassifier(max_depth=10, class_weight='balanced')\n",
    "    clf = CalibratedClassifierCV(clf, cv=2, method='sigmoid')  # 概率校正\n",
    "    return clf"
   ]
  },
  {
   "cell_type": "code",
   "execution_count": 2,
   "id": "2a7161fe",
   "metadata": {},
   "outputs": [],
   "source": [
    "class Bagging(object):\n",
    "    def __init__(self, clf, num_iter):\n",
    "        self.clf = clf  # 分类器对象\n",
    "        self.num_iter = num_iter  # Bagging 的分类器个数\n",
    "        \n",
    "    def fit_predict(self, X, Y, test_X):\n",
    "#         X = X.values\n",
    "#         Y = Y.values\n",
    "#         test_X = test_X.values\n",
    "        result = np.zeros(test_X.shape[0])  # 记录测试集的预测结果\n",
    "        train_idx = np.arange(len(Y))\n",
    "        for i in range(self.num_iter):\n",
    "            sample_idx = np.random.choice(train_idx, size=len(Y), replace=True)  # Bootstrap\n",
    "            sample_train_X = X[sample_idx]\n",
    "            sample_train_Y = Y[sample_idx]\n",
    "            self.clf.fit(sample_train_X, sample_train_Y)\n",
    "#             print('Model {:>2d} finish!'.format(i))\n",
    "            predict_proba = self.clf.predict_proba(test_X)[:, 1]\n",
    "            result += predict_proba  # 累加不同分类器的预测概率\n",
    "        result /= self.num_iter  # 取平均（投票）\n",
    "        return result"
   ]
  },
  {
   "cell_type": "code",
   "execution_count": 3,
   "id": "4f9ed91a",
   "metadata": {},
   "outputs": [],
   "source": [
    "class AdaBoostM1(object):\n",
    "    def __init__(self, clf, num_iter):\n",
    "        self.clf = clf  # 分类器对象\n",
    "        self.num_iter = num_iter  # 迭代次数\n",
    "        \n",
    "    def fit_predict(self, X, Y, test_X):\n",
    "#         X = X.values\n",
    "#         Y = Y.values\n",
    "#         test_X = test_X.values\n",
    "        result_lst, beta_lst = list(), list()  # 记录每次迭代的预测结果和投票权重\n",
    "        num_samples = len(Y)\n",
    "        weight = np.ones(num_samples)  # 样本权重，注意总和应为 num_samples\n",
    "        for i in range(self.num_iter):\n",
    "            self.clf.fit(X, Y, sample_weight=weight)  # 带权重的 fit\n",
    "#             print('Model {:<2d} finish!'.format(i))\n",
    "            train_predict = self.clf.predict(X)  # 训练集预测结果\n",
    "            error_flag = train_predict != Y  # 预测错误的位置\n",
    "            error = weight[error_flag].sum() / num_samples  # 计算错误率\n",
    "            if error > 0.5:\n",
    "                break\n",
    "            beta = error / (1 - error)\n",
    "            weight *= (1.0 - error_flag) * beta + error_flag  # 调整权重，正确位置乘上 beta，错误位置还是原来的\n",
    "            weight /= weight.sum() / num_samples  # 归一化，让权重和等于 num_samples\n",
    "            beta_lst.append(beta)\n",
    "            predict_proba = self.clf.predict_proba(test_X)[:, 1]\n",
    "            result_lst.append(predict_proba)\n",
    "#             pre = self.clf.predict(test_X)\n",
    "#             result_lst.append(pre)\n",
    "        beta_lst = np.log(1 / np.array(beta_lst))\n",
    "        beta_lst /= beta_lst.sum()  # 归一化投票权重\n",
    "#         print('\\nVote Weight:\\n', beta_lst)\n",
    "        result = (np.array(result_lst) * beta_lst[:, None]).sum(0)  # 每一轮的预测结果加权求和\n",
    "        return result"
   ]
  },
  {
   "cell_type": "code",
   "execution_count": 28,
   "id": "528cec03",
   "metadata": {},
   "outputs": [],
   "source": [
    "from sklearn.metrics import roc_auc_score"
   ]
  },
  {
   "cell_type": "code",
   "execution_count": 5,
   "id": "4e51539b",
   "metadata": {},
   "outputs": [],
   "source": [
    "import warnings\n",
    "warnings.filterwarnings(\"ignore\")"
   ]
  },
  {
   "cell_type": "code",
   "execution_count": 37,
   "id": "36c5626d",
   "metadata": {},
   "outputs": [],
   "source": [
    "clf = construct_clf('DTree')"
   ]
  },
  {
   "cell_type": "code",
   "execution_count": 38,
   "id": "a4196b06",
   "metadata": {},
   "outputs": [],
   "source": [
    "clf = AdaBoostM1(clf,10)"
   ]
  },
  {
   "cell_type": "code",
   "execution_count": 9,
   "id": "d4c0b37a",
   "metadata": {},
   "outputs": [],
   "source": [
    "# 使用sklearn生成二分类数据集\n",
    "from sklearn.datasets import make_classification"
   ]
  },
  {
   "cell_type": "code",
   "execution_count": 30,
   "id": "bd1d89df",
   "metadata": {},
   "outputs": [],
   "source": [
    "x, y = make_classification(n_samples=50000, n_features=10, n_informative=2, \n",
    "                           n_redundant=2, n_classes=2, n_clusters_per_class=2,\n",
    "                          flip_y=0.01, class_sep=1.0, scale=1.0)"
   ]
  },
  {
   "cell_type": "code",
   "execution_count": 23,
   "id": "7f49688b",
   "metadata": {},
   "outputs": [
    {
     "data": {
      "text/plain": [
       "(10000,)"
      ]
     },
     "execution_count": 23,
     "metadata": {},
     "output_type": "execute_result"
    }
   ],
   "source": [
    "y.shape"
   ]
  },
  {
   "cell_type": "code",
   "execution_count": 24,
   "id": "82e70a83",
   "metadata": {},
   "outputs": [
    {
     "data": {
      "text/plain": [
       "(10000, 10)"
      ]
     },
     "execution_count": 24,
     "metadata": {},
     "output_type": "execute_result"
    }
   ],
   "source": [
    "x.shape"
   ]
  },
  {
   "cell_type": "code",
   "execution_count": 34,
   "id": "0d2a1828",
   "metadata": {},
   "outputs": [],
   "source": [
    "# 绘图时负号不显示\n",
    "plt.rcParams['font.family'] = 'sans-serif'\n",
    "plt.rcParams['font.sans-serif'] = ['Arial Unicode MS']  # 指定使用Arial Unicode MS字体"
   ]
  },
  {
   "cell_type": "code",
   "execution_count": 35,
   "id": "37af48fa",
   "metadata": {},
   "outputs": [
    {
     "data": {
      "text/plain": [
       "<matplotlib.collections.PathCollection at 0x16c863ca580>"
      ]
     },
     "execution_count": 35,
     "metadata": {},
     "output_type": "execute_result"
    },
    {
     "name": "stderr",
     "output_type": "stream",
     "text": [
      "findfont: Font family ['sans-serif'] not found. Falling back to DejaVu Sans.\n",
      "findfont: Generic family 'sans-serif' not found because none of the following families were found: Arial Unicode MS\n"
     ]
    },
    {
     "data": {
      "image/png": "[encoded data removed]",
      "text/plain": [
       "<Figure size 432x288 with 1 Axes>"
      ]
     },
     "metadata": {
      "needs_background": "light"
     },
     "output_type": "display_data"
    }
   ],
   "source": [
    "import matplotlib.pyplot as plt\n",
    "plt.scatter(x[:, 0], x[:, 1], c=y)"
   ]
  },
  {
   "cell_type": "code",
   "execution_count": 36,
   "id": "d30a3cc2",
   "metadata": {},
   "outputs": [],
   "source": [
    "# 上述警告的原因是无法找到设定的字体"
   ]
  },
  {
   "cell_type": "code",
   "execution_count": 32,
   "id": "9fe3efdb",
   "metadata": {},
   "outputs": [],
   "source": [
    "from sklearn.model_selection import train_test_split"
   ]
  },
  {
   "cell_type": "code",
   "execution_count": 40,
   "id": "5685ebf2",
   "metadata": {},
   "outputs": [],
   "source": [
    "import numpy as np"
   ]
  },
  {
   "cell_type": "code",
   "execution_count": 33,
   "id": "5e2fc53d",
   "metadata": {},
   "outputs": [],
   "source": [
    "X_train,X_test,y_train,y_test= train_test_split(x,y,test_size=0.3,random_state=42)"
   ]
  },
  {
   "cell_type": "code",
   "execution_count": 44,
   "id": "5cf7bb32",
   "metadata": {},
   "outputs": [
    {
     "name": "stdout",
     "output_type": "stream",
     "text": [
      "CPU times: total: 0 ns\n",
      "Wall time: 0 ns\n"
     ]
    }
   ],
   "source": [
    "%time  # 统计代码运行时间\n",
    "y_pre = clf.fit_predict(X_train, y_train, X_test)"
   ]
  },
  {
   "cell_type": "code",
   "execution_count": 46,
   "id": "2c672766",
   "metadata": {},
   "outputs": [
    {
     "data": {
      "text/plain": [
       "0.943647057254623"
      ]
     },
     "execution_count": 46,
     "metadata": {},
     "output_type": "execute_result"
    }
   ],
   "source": [
    "roc_auc_score(y_test, y_pre)"
   ]
  },
  {
   "cell_type": "code",
   "execution_count": 49,
   "id": "099671a5",
   "metadata": {},
   "outputs": [],
   "source": [
    "# 查看分类器个数对结果产生的影响\n",
    "cluster_num = np.arange(20)"
   ]
  },
  {
   "cell_type": "code",
   "execution_count": 50,
   "id": "eea8b825",
   "metadata": {},
   "outputs": [
    {
     "data": {
      "text/plain": [
       "array([ 0,  1,  2,  3,  4,  5,  6,  7,  8,  9, 10, 11, 12, 13, 14, 15, 16,\n",
       "       17, 18, 19])"
      ]
     },
     "execution_count": 50,
     "metadata": {},
     "output_type": "execute_result"
    }
   ],
   "source": [
    "cluster_num"
   ]
  },
  {
   "cell_type": "code",
   "execution_count": 54,
   "id": "0579c90d",
   "metadata": {},
   "outputs": [
    {
     "data": {
      "text/plain": [
       "[<matplotlib.lines.Line2D at 0x16c8a90e100>]"
      ]
     },
     "execution_count": 54,
     "metadata": {},
     "output_type": "execute_result"
    },
    {
     "data": {
      "image/png": "[encoded data removed]",
      "text/plain": [
       "<Figure size 432x288 with 1 Axes>"
      ]
     },
     "metadata": {
      "needs_background": "light"
     },
     "output_type": "display_data"
    }
   ],
   "source": [
    "score_lt = []\n",
    "clf_ = construct_clf('DTree')\n",
    "for i in cluster_num[1:]:\n",
    "    clf = AdaBoostM1(clf_, i)\n",
    "    y_pre = clf.fit_predict(X_train, y_train, X_test)\n",
    "    score = roc_auc_score(y_test, y_pre)\n",
    "    score_lt.append(score)\n",
    "plt.plot(cluster_num[1:], score_lt)"
   ]
  },
  {
   "cell_type": "code",
   "execution_count": 56,
   "id": "3c7b7a67",
   "metadata": {},
   "outputs": [
    {
     "data": {
      "image/png": "[encoded data removed]",
      "text/plain": [
       "<Figure size 432x288 with 1 Axes>"
      ]
     },
     "metadata": {
      "needs_background": "light"
     },
     "output_type": "display_data"
    }
   ],
   "source": [
    "plt.plot(cluster_num[1:], score_lt)\n",
    "plt.xticks(cluster_num[1:])\n",
    "plt.show()"
   ]
  },
  {
   "cell_type": "code",
   "execution_count": null,
   "id": "3e1771e7",
   "metadata": {},
   "outputs": [],
   "source": []
  }
 ],
 "metadata": {
  "kernelspec": {
   "display_name": "Python 3 (ipykernel)",
   "language": "python",
   "name": "python3"
  },
  "language_info": {
   "codemirror_mode": {
    "name": "ipython",
    "version": 3
   },
   "file_extension": ".py",
   "mimetype": "text/x-python",
   "name": "python",
   "nbconvert_exporter": "python",
   "pygments_lexer": "ipython3",
   "version": "3.9.12"
  }
 },
 "nbformat": 4,
 "nbformat_minor": 5
}
