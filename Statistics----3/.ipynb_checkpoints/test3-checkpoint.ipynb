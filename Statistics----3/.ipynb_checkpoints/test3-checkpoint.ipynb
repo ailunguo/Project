{
 "cells": [
  {
   "cell_type": "code",
   "execution_count": 1,
   "id": "5dea96aa",
   "metadata": {},
   "outputs": [],
   "source": [
    "# 开始考虑统计学之前，思考这三个问题\n",
    "# 1.假设你有一个装满彩色球的袋子，你闭上眼并且从袋子里拿一个球\n",
    "# 你能据此说出袋子里彩色球的情况吗？\n",
    "# 2.你来到一个陌生的城市并且你还需要一辆出租车。在晚上你只能看到出租车上的数字标志\n",
    "# 你知道他们代表连续的出租车顺序，你能知道这座城市有多少辆出租车吗？\n",
    "# 3.你已经进入考试两次了，你想知道是否值得第三次进入考试是你的得分提高\n",
    "# 因为结果只显示最后一次的成绩，你担心第三次的结果变糟糕，你如何决定是否再进行一次？"
   ]
  },
  {
   "cell_type": "code",
   "execution_count": 2,
   "id": "5582cebd",
   "metadata": {},
   "outputs": [],
   "source": [
    "# 统计学提供了一个结构性方法来解决上述问题。这个是很重要的，因为我们很容易被自己的直觉和偏差所欺骗。\n",
    "# 不幸的是，这个领域不止提供一种单一的方法。这意味着尽管许多问题可以被解决，但这些不是容易证明，解释或理解的。\n",
    "# 根本上来讲，当我们只用数据开始的时候，我们缺少潜在的概率密度。\n",
    "# 这移除了关键结构，我们不得不抵消，然而我们选择处理数据。\n",
    "# 接下来我们考虑一些最有用的统计学工具在Python的库中和潜在的方法。"
   ]
  },
  {
   "cell_type": "code",
   "execution_count": 3,
   "id": "8ce55383",
   "metadata": {},
   "outputs": [],
   "source": [
    "# scipy.stats\n",
    "# 尽管这有一些基础的统计函数在Numpy中，真正统计函数库在scipy.stats中\n",
    "import scipy.stats"
   ]
  },
  {
   "cell_type": "code",
   "execution_count": 4,
   "id": "7d3d3f61",
   "metadata": {},
   "outputs": [
    {
     "data": {
      "text/plain": [
       "0.0"
      ]
     },
     "execution_count": 4,
     "metadata": {},
     "output_type": "execute_result"
    }
   ],
   "source": [
    "n = scipy.stats.norm(0, 10)\n",
    "# n是正态随机分布变量，均值是0，标准差σ=10。这两个参数更通用的表示为位置和比例\n",
    "# 现在我们可以调用方法来计算均值等\n",
    "n.mean()"
   ]
  },
  {
   "cell_type": "code",
   "execution_count": 5,
   "id": "dfe44edc",
   "metadata": {},
   "outputs": [
    {
     "data": {
      "text/plain": [
       "30000.0"
      ]
     },
     "execution_count": 5,
     "metadata": {},
     "output_type": "execute_result"
    }
   ],
   "source": [
    "# 我们也可以计算高阶矩，比如计算第四阶矩\n",
    "# 阶矩是统计学中用来描述数据分布形状和特征的重要概念之一。\n",
    "# 在概率论和统计学中，阶矩是指随机变量的幂的期望。\n",
    "# 对于一个随机变量X，它的r阶矩可以表示为E(X^r)，其中E表示期望值运算符。\n",
    "# 阶矩提供了关于数据分布的信息，例如均值是一阶矩，方差是二阶矩。\n",
    "# 高阶矩提供了更多关于数据分布的信息，可以用于描述偏态、峰度等特征。\n",
    "n.moment(4)"
   ]
  },
  {
   "cell_type": "code",
   "execution_count": 6,
   "id": "6b316e1d",
   "metadata": {},
   "outputs": [],
   "source": [
    "# 连续随机变量的公共方法主要包括\n",
    "# rvs: random variates 随机变量生成\n",
    "# pdf: probability density function 概率密度函数\n",
    "# cdf: cumulative distribution function累积分布函数\n",
    "# sf: survival Function (1-CDF) 生存函数\n",
    "# ppf: percent point function (Inverse of CDF) 百分位点函数\n",
    "# isf: inverse survival function (Inverse of SF) 逆生存函数\n",
    "# stats: mean, variance, (Fisher’s) skew, or (Fisher’s) kurtosis 统计指标均值，方差，偏度，峰度\n",
    "# moment: non-central moments of the distribution 非中心矩的分布"
   ]
  },
  {
   "cell_type": "code",
   "execution_count": 7,
   "id": "aadc47d9",
   "metadata": {},
   "outputs": [
    {
     "data": {
      "text/plain": [
       "0.03989422804014327"
      ]
     },
     "execution_count": 7,
     "metadata": {},
     "output_type": "execute_result"
    }
   ],
   "source": [
    "# 例如我们可以计算特定点的pdf\n",
    "n.pdf(0) # 0点的pdf"
   ]
  },
  {
   "cell_type": "code",
   "execution_count": 8,
   "id": "b0aa3a32",
   "metadata": {},
   "outputs": [
    {
     "data": {
      "text/plain": [
       "0.5"
      ]
     },
     "execution_count": 8,
     "metadata": {},
     "output_type": "execute_result"
    }
   ],
   "source": [
    "# 或者相同随机变量的cdf\n",
    "n.cdf(0)"
   ]
  },
  {
   "cell_type": "code",
   "execution_count": 9,
   "id": "c02bdb96",
   "metadata": {},
   "outputs": [
    {
     "data": {
      "text/plain": [
       "array([ -1.62702271,  30.15903984, -12.86062361,  12.46583098,\n",
       "        -2.48900822, -13.38361654, -16.47866322,   7.15792312,\n",
       "        -5.03254984,  -3.50825828])"
      ]
     },
     "execution_count": 9,
     "metadata": {},
     "output_type": "execute_result"
    }
   ],
   "source": [
    "# 你也可以从这个分布中创建一个样本\n",
    "n.rvs(10)"
   ]
  },
  {
   "cell_type": "code",
   "execution_count": 12,
   "id": "e81ce2b3",
   "metadata": {},
   "outputs": [
    {
     "data": {
      "text/plain": [
       "ShapiroResult(statistic=0.9817699790000916, pvalue=0.18218466639518738)"
      ]
     },
     "execution_count": 12,
     "metadata": {},
     "output_type": "execute_result"
    }
   ],
   "source": [
    "# 许多普通的统计学测试已经内置了。例如Shapiro-Wilks测试原假设这个数据来自一个正态分布\n",
    "scipy.stats.shapiro(n.rvs(100))\n",
    "# 第二个值是p值，越小原假设越成立"
   ]
  },
  {
   "cell_type": "code",
   "execution_count": 13,
   "id": "a5d08eb7",
   "metadata": {},
   "outputs": [],
   "source": [
    "# Sympy有他自己的更小，但也是非常有用的统计学模型，可以处理很多统计变量\n",
    "from sympy import stats, sqrt, exp, pi\n",
    "X = stats.Normal('x', 0, 10) # 创建一个正态随机变量"
   ]
  },
  {
   "cell_type": "code",
   "execution_count": 14,
   "id": "a6509ec8",
   "metadata": {},
   "outputs": [
    {
     "data": {
      "text/latex": [
       "$\\displaystyle \\frac{\\sqrt{2} e^{- \\frac{x^{2}}{200}}}{20 \\sqrt{\\pi}}$"
      ],
      "text/plain": [
       "sqrt(2)*exp(-x**2/200)/(20*sqrt(pi))"
      ]
     },
     "execution_count": 14,
     "metadata": {},
     "output_type": "execute_result"
    }
   ],
   "source": [
    "# 我们可以获得概率密度函数如\n",
    "from sympy.abc import x\n",
    "stats.density(X)(x)"
   ]
  },
  {
   "cell_type": "code",
   "execution_count": 15,
   "id": "7ff05422",
   "metadata": {},
   "outputs": [
    {
     "data": {
      "text/latex": [
       "$\\displaystyle \\frac{\\sqrt{2} e^{- \\frac{x^{2}}{200}}}{20 \\sqrt{\\pi}}$"
      ],
      "text/plain": [
       "sqrt(2)*exp(-x**2/200)/(20*sqrt(pi))"
      ]
     },
     "execution_count": 15,
     "metadata": {},
     "output_type": "execute_result"
    }
   ],
   "source": [
    "sqrt(2)*exp(-x**2/200)/(20*sqrt(pi))"
   ]
  },
  {
   "cell_type": "code",
   "execution_count": 16,
   "id": "ccfb2fcd",
   "metadata": {},
   "outputs": [
    {
     "data": {
      "text/latex": [
       "$\\displaystyle \\frac{1}{2}$"
      ],
      "text/plain": [
       "1/2"
      ]
     },
     "execution_count": 16,
     "metadata": {},
     "output_type": "execute_result"
    }
   ],
   "source": [
    "# 我们可以计算cdf\n",
    "stats.cdf(X)(0)"
   ]
  },
  {
   "cell_type": "code",
   "execution_count": 17,
   "id": "a9d1169f",
   "metadata": {},
   "outputs": [
    {
     "data": {
      "text/latex": [
       "$\\displaystyle \\frac{1}{2}$"
      ],
      "text/plain": [
       "1/2"
      ]
     },
     "execution_count": 17,
     "metadata": {},
     "output_type": "execute_result"
    }
   ],
   "source": [
    "# 在输出上你可以在数值上计算它通过使用evalf()方法。Sympy提供简洁的方式来考虑标准概率问题\n",
    "# 方法为stats.P函数\n",
    "stats.P(X>0) # prob X>0?"
   ]
  },
  {
   "cell_type": "code",
   "execution_count": 19,
   "id": "6016c44f",
   "metadata": {},
   "outputs": [
    {
     "data": {
      "text/latex": [
       "$\\displaystyle 2.59995815363879$"
      ],
      "text/plain": [
       "2.59995815363879"
      ]
     },
     "execution_count": 19,
     "metadata": {},
     "output_type": "execute_result"
    }
   ],
   "source": [
    "# 这里也有一个对应的期望函数，stats.E你可以来计算复杂的期望值\n",
    "stats.E(abs(X)**(1/2)).evalf()"
   ]
  },
  {
   "cell_type": "code",
   "execution_count": 1,
   "id": "a0f96f74",
   "metadata": {},
   "outputs": [],
   "source": [
    "# 这有一些其他的python统计模型。两个重要的模型分别为Seaborn和Statsmodels。Starsmodels用来补充Scipy的描述统计，\n",
    "# 大的统计模型的判断推理。Statsmodels包括普遍的线性模型，鲁棒线性模型和时间序列分析，强调在计量经济学数据和问题中的应用\n",
    "# 这两个模型都紧密结合在Matplotlib，Numpy，Scipy,和其他的Python科学库中"
   ]
  },
  {
   "cell_type": "code",
   "execution_count": 2,
   "id": "a217bd04",
   "metadata": {},
   "outputs": [
    {
     "data": {
      "text/plain": [
       "<function __main__.<lambda>(i)>"
      ]
     },
     "execution_count": 2,
     "metadata": {},
     "output_type": "execute_result"
    }
   ],
   "source": [
    "from scipy import stats\n",
    "u = stats.uniform()\n",
    "xn = lambda i : u.rvs(i).max()\n",
    "xn"
   ]
  },
  {
   "cell_type": "code",
   "execution_count": 3,
   "id": "fcaa87e6",
   "metadata": {},
   "outputs": [
    {
     "data": {
      "text/plain": [
       "0.9695649333384546"
      ]
     },
     "execution_count": 3,
     "metadata": {},
     "output_type": "execute_result"
    }
   ],
   "source": [
    "xn(5)"
   ]
  },
  {
   "cell_type": "code",
   "execution_count": 6,
   "id": "366075cd",
   "metadata": {},
   "outputs": [
    {
     "data": {
      "text/plain": [
       "0.964"
      ]
     },
     "execution_count": 6,
     "metadata": {},
     "output_type": "execute_result"
    }
   ],
   "source": [
    "import numpy as np\n",
    "np.mean([xn(60) > 0.95 for i in range(1000)])"
   ]
  },
  {
   "cell_type": "code",
   "execution_count": 7,
   "id": "6471cf1c",
   "metadata": {},
   "outputs": [
    {
     "data": {
      "text/plain": [
       "array([ 0,  1,  2,  3,  4,  5,  6,  7,  8,  9, 10, 11, 12, 13, 14, 15, 16,\n",
       "       17, 18, 19, 20, 21, 22, 23, 24, 25, 26, 27, 28, 29, 30, 31, 32, 33,\n",
       "       34, 35, 36, 37, 38, 39, 40, 41, 42, 43, 44, 45, 46, 47, 48, 49, 50,\n",
       "       51, 52, 53, 54, 55, 56, 57, 58, 59, 60, 61, 62, 63, 64, 65, 66, 67,\n",
       "       68, 69, 70, 71, 72, 73, 74, 75, 76, 77, 78, 79, 80, 81, 82, 83, 84,\n",
       "       85, 86, 87, 88, 89, 90, 91, 92, 93, 94, 95, 96, 97, 98, 99])"
      ]
     },
     "execution_count": 7,
     "metadata": {},
     "output_type": "execute_result"
    }
   ],
   "source": [
    "x = np.arange(100)\n",
    "x"
   ]
  },
  {
   "cell_type": "code",
   "execution_count": 18,
   "id": "752d468e",
   "metadata": {},
   "outputs": [
    {
     "data": {
      "text/plain": [
       "99"
      ]
     },
     "execution_count": 18,
     "metadata": {},
     "output_type": "execute_result"
    }
   ],
   "source": [
    "y = [xn(i) for i in x[1:]]\n",
    "y1 = [xn(i) for i in x[1:]]\n",
    "y3 = [xn(i) for i in x[1:]]\n",
    "y4 = [xn(i) for i in x[1:]]\n",
    "len(y)"
   ]
  },
  {
   "cell_type": "code",
   "execution_count": 14,
   "id": "99ea3662",
   "metadata": {},
   "outputs": [
    {
     "data": {
      "text/plain": [
       "99"
      ]
     },
     "execution_count": 14,
     "metadata": {},
     "output_type": "execute_result"
    }
   ],
   "source": [
    "len(x[1:])"
   ]
  },
  {
   "cell_type": "code",
   "execution_count": 21,
   "id": "723c860b",
   "metadata": {},
   "outputs": [
    {
     "data": {
      "text/plain": [
       "[<matplotlib.lines.Line2D at 0x1bc955d98b0>]"
      ]
     },
     "execution_count": 21,
     "metadata": {},
     "output_type": "execute_result"
    },
    {
     "data": {
      "image/png": "[encoded data removed]",
      "text/plain": [
       "<Figure size 432x288 with 1 Axes>"
      ]
     },
     "metadata": {
      "needs_background": "light"
     },
     "output_type": "display_data"
    }
   ],
   "source": [
    "import matplotlib.pyplot as plt\n",
    "plt.plot(x[1:], y)\n",
    "plt.plot(x[1:], y1)\n",
    "plt.plot(x[1:], y3)\n",
    "plt.plot(x[1:], y4)\n",
    "plt.plot(x[1:], [0.95 for i in range(99)])"
   ]
  },
  {
   "cell_type": "code",
   "execution_count": 22,
   "id": "e31aef44",
   "metadata": {},
   "outputs": [
    {
     "data": {
      "text/plain": [
       "89.78113496070968"
      ]
     },
     "execution_count": 22,
     "metadata": {},
     "output_type": "execute_result"
    }
   ],
   "source": [
    "np.log(1-.99)/np.log(.95)"
   ]
  },
  {
   "cell_type": "code",
   "execution_count": 23,
   "id": "d20a3ec3",
   "metadata": {},
   "outputs": [
    {
     "data": {
      "text/plain": [
       "0.992"
      ]
     },
     "execution_count": 23,
     "metadata": {},
     "output_type": "execute_result"
    }
   ],
   "source": [
    "np.mean([xn(90) > 0.95 for i in range(1000)])"
   ]
  },
  {
   "cell_type": "code",
   "execution_count": 28,
   "id": "cd6cff0c",
   "metadata": {},
   "outputs": [
    {
     "data": {
      "text/plain": [
       "array([[0. , 0.5],\n",
       "       [0.5, 1. ]])"
      ]
     },
     "execution_count": 28,
     "metadata": {},
     "output_type": "execute_result"
    }
   ],
   "source": [
    "np.array(list(zip(range(3), range(1, 3))))/2"
   ]
  },
  {
   "cell_type": "code",
   "execution_count": 32,
   "id": "fcaa75dc",
   "metadata": {},
   "outputs": [
    {
     "data": {
      "text/plain": [
       "[(0, 1), (1, 2)]"
      ]
     },
     "execution_count": 32,
     "metadata": {},
     "output_type": "execute_result"
    }
   ],
   "source": [
    "list(zip(range(3), range(1, 3)))"
   ]
  },
  {
   "cell_type": "code",
   "execution_count": 33,
   "id": "8f663bcf",
   "metadata": {},
   "outputs": [],
   "source": [
    "make_interval = lambda n : np.array(list(zip(range(n+1), range(1, n+1))))/n"
   ]
  },
  {
   "cell_type": "code",
   "execution_count": 34,
   "id": "73c1d78c",
   "metadata": {},
   "outputs": [
    {
     "data": {
      "text/plain": [
       "array([[0.        , 1.        ],\n",
       "       [0.        , 0.5       ],\n",
       "       [0.5       , 1.        ],\n",
       "       [0.        , 0.33333333],\n",
       "       [0.33333333, 0.66666667],\n",
       "       [0.66666667, 1.        ],\n",
       "       [0.        , 0.25      ],\n",
       "       [0.25      , 0.5       ],\n",
       "       [0.5       , 0.75      ],\n",
       "       [0.75      , 1.        ]])"
      ]
     },
     "execution_count": 34,
     "metadata": {},
     "output_type": "execute_result"
    }
   ],
   "source": [
    "intervals = np.vstack([make_interval(i) for i in range(1, 5)])\n",
    "intervals"
   ]
  },
  {
   "cell_type": "code",
   "execution_count": 35,
   "id": "6023c194",
   "metadata": {},
   "outputs": [],
   "source": [
    "# 假设检验和P值\n",
    "# 有时候很难明确的认为结果由于因果因素。例如，你的实验是否产生了你期望的结果，有时可能发生了，\n",
    "# 但效果不够显著，无法将其与无法避免的测量误差或环境中的其他因素分开吗？\n",
    "# 假设检验是一个恩有用的统计方法来设法解决这些问题，让我们从头开始考虑我们具有位置参数p的抛硬币实验\n",
    "# 每个硬币反转是服从伯努利分布的。第一步是建立独立假设。首先H0是所谓的零假设，H0: θ<0.5, H1: θ>=0.5"
   ]
  },
  {
   "cell_type": "code",
   "execution_count": 36,
   "id": "14572a45",
   "metadata": {},
   "outputs": [],
   "source": [
    "a = 6\n",
    "b = 1\n",
    "x = np.linspace(0, 1, 100)\n",
    "y = a*x + np.random.randint(len(x)) + b\n",
    "p, var_ = np.polyfit(x, y, 1, cov=True)\n",
    "y_ = np.polyval(p, x)"
   ]
  },
  {
   "cell_type": "code",
   "execution_count": 37,
   "id": "f5fedb9d",
   "metadata": {},
   "outputs": [
    {
     "data": {
      "text/plain": [
       "array([ 6., 32.])"
      ]
     },
     "execution_count": 37,
     "metadata": {},
     "output_type": "execute_result"
    }
   ],
   "source": [
    "p"
   ]
  },
  {
   "cell_type": "code",
   "execution_count": 38,
   "id": "9c923976",
   "metadata": {},
   "outputs": [
    {
     "data": {
      "text/plain": [
       "array([[ 3.04742645e-30, -1.52371323e-30],\n",
       "       [-1.52371323e-30,  1.02093916e-30]])"
      ]
     },
     "execution_count": 38,
     "metadata": {},
     "output_type": "execute_result"
    }
   ],
   "source": [
    "var_"
   ]
  },
  {
   "cell_type": "code",
   "execution_count": 41,
   "id": "105caf62",
   "metadata": {},
   "outputs": [
    {
     "data": {
      "text/plain": [
       "<matplotlib.collections.PathCollection at 0x1bc95b48ca0>"
      ]
     },
     "execution_count": 41,
     "metadata": {},
     "output_type": "execute_result"
    },
    {
     "data": {
      "image/png": "[encoded data removed]",
      "text/plain": [
       "<Figure size 432x288 with 1 Axes>"
      ]
     },
     "metadata": {
      "needs_background": "light"
     },
     "output_type": "display_data"
    }
   ],
   "source": [
    "plt.scatter(x, y)"
   ]
  },
  {
   "cell_type": "code",
   "execution_count": 42,
   "id": "b050c9c2",
   "metadata": {},
   "outputs": [
    {
     "data": {
      "text/plain": [
       "array(['a', 'a', 'a', 'b', 'b', 'b', 'c', 'c', 'c'], dtype='<U1')"
      ]
     },
     "execution_count": 42,
     "metadata": {},
     "output_type": "execute_result"
    }
   ],
   "source": [
    "# 交叉检验\n",
    "# 最简单的交叉检验形式为k-fold检验。\n",
    "from sklearn.model_selection import KFold\n",
    "data = np.array(['a',]*3 + ['b',]*3 + ['c',]*3)\n",
    "data"
   ]
  },
  {
   "cell_type": "code",
   "execution_count": 43,
   "id": "720f3f32",
   "metadata": {},
   "outputs": [
    {
     "name": "stdout",
     "output_type": "stream",
     "text": [
      "[3 4 5 6 7 8] [0 1 2]\n",
      "[0 1 2 6 7 8] [3 4 5]\n",
      "[0 1 2 3 4 5] [6 7 8]\n"
     ]
    }
   ],
   "source": [
    "kf = KFold(3)  # 3折交叉检验\n",
    "for train_idx, test_idx in kf.split(data):\n",
    "    print(train_idx, test_idx)"
   ]
  },
  {
   "cell_type": "code",
   "execution_count": 44,
   "id": "364f8e1e",
   "metadata": {},
   "outputs": [
    {
     "name": "stdout",
     "output_type": "stream",
     "text": [
      "training ['a' 'a' 'a' 'b' 'b' 'b']\n",
      "testing ['a' 'a' 'a']\n",
      "training ['a' 'a' 'a' 'b' 'b' 'b']\n",
      "testing ['b' 'b' 'b']\n",
      "training ['a' 'a' 'a' 'b' 'b' 'b']\n",
      "testing ['c' 'c' 'c']\n"
     ]
    }
   ],
   "source": [
    "for trian_idx, test_idx in kf.split(data):\n",
    "    print('training', data[train_idx])\n",
    "    print('testing', data[test_idx])"
   ]
  },
  {
   "cell_type": "code",
   "execution_count": 45,
   "id": "666c358b",
   "metadata": {},
   "outputs": [],
   "source": [
    "xi = np.linspace(0, 1, 30)\n",
    "yi = np.sin(2*np.pi*xi)"
   ]
  },
  {
   "cell_type": "code",
   "execution_count": 46,
   "id": "78aee04a",
   "metadata": {},
   "outputs": [
    {
     "data": {
      "text/plain": [
       "(30,)"
      ]
     },
     "execution_count": 46,
     "metadata": {},
     "output_type": "execute_result"
    }
   ],
   "source": [
    "xi.shape"
   ]
  },
  {
   "cell_type": "code",
   "execution_count": 47,
   "id": "181e837d",
   "metadata": {},
   "outputs": [
    {
     "data": {
      "text/plain": [
       "(30, 1)"
      ]
     },
     "execution_count": 47,
     "metadata": {},
     "output_type": "execute_result"
    }
   ],
   "source": [
    "Xi = xi.reshape(-1, 1)\n",
    "Xi.shape"
   ]
  },
  {
   "cell_type": "code",
   "execution_count": 48,
   "id": "852e7215",
   "metadata": {},
   "outputs": [
    {
     "data": {
      "text/plain": [
       "(30, 1)"
      ]
     },
     "execution_count": 48,
     "metadata": {},
     "output_type": "execute_result"
    }
   ],
   "source": [
    "Yi = yi.reshape(-1, 1)\n",
    "Yi.shape"
   ]
  },
  {
   "cell_type": "code",
   "execution_count": 49,
   "id": "1ac77613",
   "metadata": {},
   "outputs": [],
   "source": [
    "from sklearn.linear_model import LinearRegression"
   ]
  },
  {
   "cell_type": "code",
   "execution_count": 50,
   "id": "0d1a87ce",
   "metadata": {},
   "outputs": [
    {
     "data": {
      "text/plain": [
       "{'memory': None,\n",
       " 'steps': [('poly', PolynomialFeatures(degree=3)),\n",
       "  ('linear', LinearRegression())],\n",
       " 'verbose': False,\n",
       " 'poly': PolynomialFeatures(degree=3),\n",
       " 'linear': LinearRegression(),\n",
       " 'poly__degree': 3,\n",
       " 'poly__include_bias': True,\n",
       " 'poly__interaction_only': False,\n",
       " 'poly__order': 'C',\n",
       " 'linear__copy_X': True,\n",
       " 'linear__fit_intercept': True,\n",
       " 'linear__n_jobs': None,\n",
       " 'linear__normalize': 'deprecated',\n",
       " 'linear__positive': False}"
      ]
     },
     "execution_count": 50,
     "metadata": {},
     "output_type": "execute_result"
    }
   ],
   "source": [
    "from sklearn.pipeline import Pipeline\n",
    "from sklearn.preprocessing import PolynomialFeatures\n",
    "polyfitter = Pipeline([('poly', PolynomialFeatures(degree=3)),\n",
    "                      ('linear', LinearRegression())])\n",
    "polyfitter.get_params()"
   ]
  },
  {
   "cell_type": "code",
   "execution_count": 51,
   "id": "112a2dc6",
   "metadata": {},
   "outputs": [],
   "source": [
    "from sklearn.model_selection import GridSearchCV\n",
    "gs = GridSearchCV(polyfitter, {'poly__degree':[1, 2, 3]},\n",
    "                 cv=4, return_train_score=True)"
   ]
  },
  {
   "cell_type": "code",
   "execution_count": 52,
   "id": "46574457",
   "metadata": {},
   "outputs": [
    {
     "data": {
      "text/plain": [
       "{'mean_fit_time': array([0.00200403, 0.00075018, 0.00074303]),\n",
       " 'std_fit_time': array([0.00174136, 0.00043313, 0.00042906]),\n",
       " 'mean_score_time': array([0.00049514, 0.00024891, 0.00039005]),\n",
       " 'std_score_time': array([0.00049514, 0.00043112, 0.00042032]),\n",
       " 'param_poly__degree': masked_array(data=[1, 2, 3],\n",
       "              mask=[False, False, False],\n",
       "        fill_value='?',\n",
       "             dtype=object),\n",
       " 'params': [{'poly__degree': 1}, {'poly__degree': 2}, {'poly__degree': 3}],\n",
       " 'split0_test_score': array([ -2.03118491, -68.54947351,  -1.64899934]),\n",
       " 'split1_test_score': array([-1.38557769, -3.20386236,  0.81372823]),\n",
       " 'split2_test_score': array([ -7.82417707, -11.8740862 ,   0.47246476]),\n",
       " 'split3_test_score': array([ -3.21714294, -60.70054797,   0.14328163]),\n",
       " 'mean_test_score': array([ -3.61452065, -36.08199251,  -0.05488118]),\n",
       " 'std_test_score': array([ 2.51765044, 28.84096377,  0.95040218]),\n",
       " 'rank_test_score': array([2, 3, 1]),\n",
       " 'split0_train_score': array([0.52652515, 0.93434227, 0.99177894]),\n",
       " 'split1_train_score': array([0.5494882 , 0.60357784, 0.99154288]),\n",
       " 'split2_train_score': array([0.54132528, 0.59737218, 0.99046089]),\n",
       " 'split3_train_score': array([0.57837263, 0.91061274, 0.99144127]),\n",
       " 'mean_train_score': array([0.54892781, 0.76147626, 0.99130599]),\n",
       " 'std_train_score': array([0.01888775, 0.16123462, 0.00050307])}"
      ]
     },
     "execution_count": 52,
     "metadata": {},
     "output_type": "execute_result"
    }
   ],
   "source": [
    "gs.fit(Xi, Yi)\n",
    "gs.cv_results_"
   ]
  },
  {
   "cell_type": "code",
   "execution_count": 53,
   "id": "222cafda",
   "metadata": {},
   "outputs": [],
   "source": [
    "def yhat(x, w):\n",
    "    return np.sign(np.dot(x, w))"
   ]
  },
  {
   "cell_type": "code",
   "execution_count": 54,
   "id": "bdab3627",
   "metadata": {},
   "outputs": [
    {
     "name": "stderr",
     "output_type": "stream",
     "text": [
      "C:\\Users\\dell\\AppData\\Local\\Temp\\ipykernel_10868\\3701917810.py:3: DeprecationWarning: `np.int` is a deprecated alias for the builtin `int`. To silence this warning, use `int` by itself. Doing this will not modify any behavior and is safe. When replacing `np.int`, you may wish to use e.g. `np.int64` or `np.int32` to specify the precision. If you wish to review your current use, check the release note link for additional information.\n",
      "Deprecated in NumPy 1.20; for more details and guidance: https://numpy.org/devdocs/release/1.20.0-notes.html#deprecations\n",
      "  labels = np.ones(X.shape[0], dtype=np.int)\n"
     ]
    }
   ],
   "source": [
    "npts = 100\n",
    "X = np.random.rand(npts, 2)*6-3\n",
    "labels = np.ones(X.shape[0], dtype=np.int)\n",
    "labels[(X[:, 1]<X[:, 0])] = -1\n",
    "X = np.c_[X, np.ones(X.shape[0])]"
   ]
  },
  {
   "cell_type": "code",
   "execution_count": 55,
   "id": "52ad9a67",
   "metadata": {},
   "outputs": [
    {
     "data": {
      "text/plain": [
       "(100, 3)"
      ]
     },
     "execution_count": 55,
     "metadata": {},
     "output_type": "execute_result"
    }
   ],
   "source": [
    "X.shape"
   ]
  },
  {
   "cell_type": "code",
   "execution_count": 56,
   "id": "e5f0a99b",
   "metadata": {},
   "outputs": [
    {
     "data": {
      "text/plain": [
       "array([[ 0.60156944, -1.24275193,  1.        ],\n",
       "       [ 0.68428115,  1.26777043,  1.        ],\n",
       "       [ 0.78583108, -2.46638536,  1.        ],\n",
       "       [ 1.05401844,  1.57079268,  1.        ],\n",
       "       [-2.25355852,  0.83181761,  1.        ]])"
      ]
     },
     "execution_count": 56,
     "metadata": {},
     "output_type": "execute_result"
    }
   ],
   "source": [
    "X[:5]"
   ]
  },
  {
   "cell_type": "code",
   "execution_count": 57,
   "id": "1ca5b306",
   "metadata": {},
   "outputs": [],
   "source": [
    "w = np.random.randn(3)\n",
    "for i, j in zip(X, labels):\n",
    "    w = w - (yhat(i, w)-j)*i"
   ]
  },
  {
   "cell_type": "code",
   "execution_count": 58,
   "id": "5bae77fc",
   "metadata": {},
   "outputs": [
    {
     "data": {
      "text/plain": [
       "0.99"
      ]
     },
     "execution_count": 58,
     "metadata": {},
     "output_type": "execute_result"
    }
   ],
   "source": [
    "from sklearn.metrics import accuracy_score\n",
    "accuracy_score(labels, [yhat(i, w) for i in X])"
   ]
  },
  {
   "cell_type": "code",
   "execution_count": 6,
   "id": "09eb94f6",
   "metadata": {},
   "outputs": [],
   "source": [
    "from sklearn.datasets import make_moons\n",
    "X, y = make_moons(n_samples=1000, noise=0.1, random_state=1234)"
   ]
  },
  {
   "cell_type": "code",
   "execution_count": 7,
   "id": "8aa61046",
   "metadata": {},
   "outputs": [],
   "source": [
    "import matplotlib.pyplot as plt"
   ]
  },
  {
   "cell_type": "code",
   "execution_count": 13,
   "id": "89e974e4",
   "metadata": {},
   "outputs": [],
   "source": [
    "plt.rcParams['font.family'] = 'DejaVu Sans'"
   ]
  },
  {
   "cell_type": "code",
   "execution_count": 64,
   "id": "5e2afc0d",
   "metadata": {},
   "outputs": [
    {
     "data": {
      "text/plain": [
       "array([[ 0.54824529, -0.401217  ],\n",
       "       [ 1.86359348,  0.42757478],\n",
       "       [ 0.63712192,  0.92089825],\n",
       "       [ 1.19602709, -0.36936107]])"
      ]
     },
     "execution_count": 64,
     "metadata": {},
     "output_type": "execute_result"
    }
   ],
   "source": [
    "X[:4]"
   ]
  },
  {
   "cell_type": "code",
   "execution_count": 65,
   "id": "a1b88163",
   "metadata": {},
   "outputs": [
    {
     "data": {
      "text/plain": [
       "array([1, 1, 0, 1], dtype=int64)"
      ]
     },
     "execution_count": 65,
     "metadata": {},
     "output_type": "execute_result"
    }
   ],
   "source": [
    "y[:4]"
   ]
  },
  {
   "cell_type": "code",
   "execution_count": 14,
   "id": "2d01acf8",
   "metadata": {},
   "outputs": [
    {
     "data": {
      "text/plain": [
       "<matplotlib.collections.PathCollection at 0x1a9089b4d90>"
      ]
     },
     "execution_count": 14,
     "metadata": {},
     "output_type": "execute_result"
    },
    {
     "data": {
      "image/png": "[encoded data removed]",
      "text/plain": [
       "<Figure size 432x288 with 1 Axes>"
      ]
     },
     "metadata": {
      "needs_background": "light"
     },
     "output_type": "display_data"
    }
   ],
   "source": [
    "plt.scatter(X[y==1][:,0], X[y==1][:,1])\n",
    "plt.scatter(X[y==0][:,0], X[y==0][:,1])"
   ]
  },
  {
   "cell_type": "code",
   "execution_count": 73,
   "id": "dc570478",
   "metadata": {},
   "outputs": [
    {
     "name": "stdout",
     "output_type": "stream",
     "text": [
      "Collecting keras\n",
      "  Downloading keras-2.13.1-py3-none-any.whl (1.7 MB)\n",
      "Installing collected packages: keras\n",
      "Successfully installed keras-2.13.1\n"
     ]
    }
   ],
   "source": [
    "!pip install keras"
   ]
  },
  {
   "cell_type": "code",
   "execution_count": 16,
   "id": "3ec1f549",
   "metadata": {},
   "outputs": [],
   "source": [
    "xi = np.linspace(-10, 10, 100)"
   ]
  },
  {
   "cell_type": "code",
   "execution_count": 17,
   "id": "1bc1eefc",
   "metadata": {},
   "outputs": [
    {
     "data": {
      "text/plain": [
       "array([-10.        ,  -9.7979798 ,  -9.5959596 ,  -9.39393939,\n",
       "        -9.19191919,  -8.98989899,  -8.78787879,  -8.58585859,\n",
       "        -8.38383838,  -8.18181818,  -7.97979798,  -7.77777778,\n",
       "        -7.57575758,  -7.37373737,  -7.17171717,  -6.96969697,\n",
       "        -6.76767677,  -6.56565657,  -6.36363636,  -6.16161616,\n",
       "        -5.95959596,  -5.75757576,  -5.55555556,  -5.35353535,\n",
       "        -5.15151515,  -4.94949495,  -4.74747475,  -4.54545455,\n",
       "        -4.34343434,  -4.14141414,  -3.93939394,  -3.73737374,\n",
       "        -3.53535354,  -3.33333333,  -3.13131313,  -2.92929293,\n",
       "        -2.72727273,  -2.52525253,  -2.32323232,  -2.12121212,\n",
       "        -1.91919192,  -1.71717172,  -1.51515152,  -1.31313131,\n",
       "        -1.11111111,  -0.90909091,  -0.70707071,  -0.50505051,\n",
       "        -0.3030303 ,  -0.1010101 ,   0.1010101 ,   0.3030303 ,\n",
       "         0.50505051,   0.70707071,   0.90909091,   1.11111111,\n",
       "         1.31313131,   1.51515152,   1.71717172,   1.91919192,\n",
       "         2.12121212,   2.32323232,   2.52525253,   2.72727273,\n",
       "         2.92929293,   3.13131313,   3.33333333,   3.53535354,\n",
       "         3.73737374,   3.93939394,   4.14141414,   4.34343434,\n",
       "         4.54545455,   4.74747475,   4.94949495,   5.15151515,\n",
       "         5.35353535,   5.55555556,   5.75757576,   5.95959596,\n",
       "         6.16161616,   6.36363636,   6.56565657,   6.76767677,\n",
       "         6.96969697,   7.17171717,   7.37373737,   7.57575758,\n",
       "         7.77777778,   7.97979798,   8.18181818,   8.38383838,\n",
       "         8.58585859,   8.78787879,   8.98989899,   9.19191919,\n",
       "         9.39393939,   9.5959596 ,   9.7979798 ,  10.        ])"
      ]
     },
     "execution_count": 17,
     "metadata": {},
     "output_type": "execute_result"
    }
   ],
   "source": [
    "xi"
   ]
  },
  {
   "cell_type": "code",
   "execution_count": null,
   "id": "add543a5",
   "metadata": {},
   "outputs": [],
   "source": []
  }
 ],
 "metadata": {
  "kernelspec": {
   "display_name": "Python 3 (ipykernel)",
   "language": "python",
   "name": "python3"
  },
  "language_info": {
   "codemirror_mode": {
    "name": "ipython",
    "version": 3
   },
   "file_extension": ".py",
   "mimetype": "text/x-python",
   "name": "python",
   "nbconvert_exporter": "python",
   "pygments_lexer": "ipython3",
   "version": "3.9.12"
  }
 },
 "nbformat": 4,
 "nbformat_minor": 5
}
