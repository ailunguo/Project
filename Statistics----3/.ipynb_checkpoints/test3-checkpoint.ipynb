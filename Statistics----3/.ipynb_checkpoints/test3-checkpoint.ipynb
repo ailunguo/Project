{
 "cells": [
  {
   "cell_type": "code",
   "execution_count": 1,
   "id": "5dea96aa",
   "metadata": {},
   "outputs": [],
   "source": [
    "# 开始考虑统计学之前，思考这三个问题\n",
    "# 1.假设你有一个装满彩色球的袋子，你闭上眼并且从袋子里拿一个球\n",
    "# 你能据此说出袋子里彩色球的情况吗？\n",
    "# 2.你来到一个陌生的城市并且你还需要一辆出租车。在晚上你只能看到出租车上的数字标志\n",
    "# 你知道他们代表连续的出租车顺序，你能知道这座城市有多少辆出租车吗？\n",
    "# 3.你已经进入考试两次了，你想知道是否值得第三次进入考试是你的得分提高\n",
    "# 因为结果只显示最后一次的成绩，你担心第三次的结果变糟糕，你如何决定是否再进行一次？"
   ]
  },
  {
   "cell_type": "code",
   "execution_count": 2,
   "id": "5582cebd",
   "metadata": {},
   "outputs": [],
   "source": [
    "# 统计学提供了一个结构性方法来解决上述问题。这个是很重要的，因为我们很容易被自己的直觉和偏差所欺骗。\n",
    "# 不幸的是，这个领域不止提供一种单一的方法。这意味着尽管许多问题可以被解决，但这些不是容易证明，解释或理解的。\n",
    "# 根本上来讲，当我们只用数据开始的时候，我们缺少潜在的概率密度。\n",
    "# 这移除了关键结构，我们不得不抵消，然而我们选择处理数据。\n",
    "# 接下来我们考虑一些最有用的统计学工具在Python的库中和潜在的方法。"
   ]
  },
  {
   "cell_type": "code",
   "execution_count": null,
   "id": "8ce55383",
   "metadata": {},
   "outputs": [],
   "source": [
    "# scipy.stats\n",
    "# 尽管这有一些基础的统计函数在Numpy中，真正"
   ]
  }
 ],
 "metadata": {
  "kernelspec": {
   "display_name": "Python 3 (ipykernel)",
   "language": "python",
   "name": "python3"
  },
  "language_info": {
   "codemirror_mode": {
    "name": "ipython",
    "version": 3
   },
   "file_extension": ".py",
   "mimetype": "text/x-python",
   "name": "python",
   "nbconvert_exporter": "python",
   "pygments_lexer": "ipython3",
   "version": "3.9.12"
  }
 },
 "nbformat": 4,
 "nbformat_minor": 5
}
