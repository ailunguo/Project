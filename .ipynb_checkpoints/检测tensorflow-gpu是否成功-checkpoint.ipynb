{
 "cells": [
  {
   "cell_type": "code",
   "execution_count": 1,
   "id": "ab6f88f7",
   "metadata": {},
   "outputs": [],
   "source": [
    "import tensorflow as tf"
   ]
  },
  {
   "cell_type": "code",
   "execution_count": 2,
   "id": "e5119633",
   "metadata": {},
   "outputs": [
    {
     "name": "stdout",
     "output_type": "stream",
     "text": [
      "2.10.0\n",
      "/device:GPU:0\n",
      "<function set_visible_devices at 0x000002B1508DF040>\n",
      "GPU: [PhysicalDevice(name='/physical_device:GPU:0', device_type='GPU')]\n",
      "CPU: [PhysicalDevice(name='/physical_device:CPU:0', device_type='CPU')]\n",
      "[PhysicalDevice(name='/physical_device:GPU:0', device_type='GPU')]\n",
      "WARNING:tensorflow:From C:\\Users\\dell\\AppData\\Local\\Temp\\ipykernel_11172\\4078742459.py:7: is_gpu_available (from tensorflow.python.framework.test_util) is deprecated and will be removed in a future version.\n",
      "Instructions for updating:\n",
      "Use `tf.config.list_physical_devices('GPU')` instead.\n",
      "True\n",
      "Num GPUs Available:  1\n"
     ]
    }
   ],
   "source": [
    "print(tf.__version__)\n",
    "print(tf.test.gpu_device_name())\n",
    "print(tf.config.experimental.set_visible_devices)\n",
    "print('GPU:', tf.config.list_physical_devices('GPU'))\n",
    "print('CPU:', tf.config.list_physical_devices(device_type='CPU'))\n",
    "print(tf.config.list_physical_devices('GPU'))\n",
    "print(tf.test.is_gpu_available())\n",
    "# 输出可用的GPU数量\n",
    "print(\"Num GPUs Available: \", len(tf.config.experimental.list_physical_devices('GPU')))\n",
    "# 查询GPU设备\n"
   ]
  },
  {
   "cell_type": "code",
   "execution_count": 3,
   "id": "32a73127",
   "metadata": {},
   "outputs": [
    {
     "name": "stdout",
     "output_type": "stream",
     "text": [
      "cpu: 1.3202134   gpu: 0.8892752000000002\n"
     ]
    }
   ],
   "source": [
    "# 测试GPU运算速度\n",
    "import timeit\n",
    " \n",
    "#指定在cpu上运行\n",
    "def cpu_run():\n",
    "    with tf.device('/cpu:0'):\n",
    "        cpu_a = tf.random.normal([10000, 1000])\n",
    "        cpu_b = tf.random.normal([1000, 2000])\n",
    "        c = tf.matmul(cpu_a, cpu_b)\n",
    "    return c\n",
    " \n",
    "#指定在gpu上运行 \n",
    "def gpu_run():\n",
    "    with tf.device('/gpu:1'):\n",
    "        gpu_a = tf.random.normal([10000, 1000])\n",
    "        gpu_b = tf.random.normal([1000, 2000])\n",
    "        c = tf.matmul(gpu_a, gpu_b)\n",
    "    return c\n",
    "\n",
    "cpu_time = timeit.timeit(cpu_run, number=10)\n",
    "gpu_time = timeit.timeit(gpu_run, number=10)\n",
    "print(\"cpu:\", cpu_time, \"  gpu:\", gpu_time)\n"
   ]
  },
  {
   "cell_type": "code",
   "execution_count": 2,
   "id": "91cdc468",
   "metadata": {},
   "outputs": [],
   "source": [
    "import matplotlib.pyplot as plt\n",
    "from sklearn.model_selection import train_test_split\n",
    "from tensorflow.keras.preprocessing.image import ImageDataGenerator\n",
    "from tensorflow.keras.layers import Conv2D,MaxPooling2D,BatchNormalization,Flatten,Dense"
   ]
  },
  {
   "cell_type": "code",
   "execution_count": 3,
   "id": "27969a55",
   "metadata": {},
   "outputs": [],
   "source": [
    "# 指定当前程序使用的 GPU\n",
    "gpus = tf.config.experimental.list_physical_devices('GPU')\n",
    "for gpu in gpus:\n",
    "    tf.config.experimental.set_memory_growth(gpu, True)"
   ]
  },
  {
   "cell_type": "code",
   "execution_count": 4,
   "id": "4adaccc3",
   "metadata": {},
   "outputs": [],
   "source": [
    "# 调用数据集\n",
    "(train_X, train_y), (test_X, test_y) = tf.keras.datasets.mnist.load_data()\n",
    "train_X, test_X = train_X/255.0, test_X/255.0"
   ]
  },
  {
   "cell_type": "code",
   "execution_count": 5,
   "id": "ffb2129a",
   "metadata": {},
   "outputs": [],
   "source": [
    "train_X = train_X.reshape(-1, 28, 28, 1)\n",
    "train_y = tf.keras.utils.to_categorical(train_y)\n",
    "X_train, X_test, y_train, y_test = train_test_split(train_X, train_y, test_size=0.1, random_state=0)"
   ]
  },
  {
   "cell_type": "code",
   "execution_count": 6,
   "id": "6185c124",
   "metadata": {},
   "outputs": [
    {
     "data": {
      "text/plain": [
       "(54000, 28, 28, 1)"
      ]
     },
     "execution_count": 6,
     "metadata": {},
     "output_type": "execute_result"
    }
   ],
   "source": [
    "X_train.shape"
   ]
  },
  {
   "cell_type": "code",
   "execution_count": 7,
   "id": "7c9ff1d9",
   "metadata": {},
   "outputs": [],
   "source": [
    "# 选择模型，构建网络\n",
    "model = tf.keras.Sequential()\n",
    "model.add(Conv2D(64, (3, 3), activation='relu', input_shape=(28, 28, 1))), # 添加Conv2D层\n",
    "model.add(Conv2D(64, (3, 3), activation='relu')), # 添加Conv2D层\n",
    "model.add(MaxPooling2D((2, 2), strides=2)), # 添加MaxPooling2D层\n",
    "model.add(BatchNormalization()),\n",
    "\n",
    "model.add(Conv2D(128, (3, 3), activation='relu')),  #添加Conv2D层\n",
    "model.add(Conv2D(128, (3, 3), activation='relu')),  #添加Conv2D层\n",
    "model.add(MaxPooling2D((2, 2), strides=2)),  #添加MaxPooling2D层\n",
    "model.add(BatchNormalization()),\n",
    "\n",
    "model.add(Conv2D(128, (3, 3), activation='relu')),  #添加Conv2D层\n",
    "model.add(MaxPooling2D((2, 2), strides=2)),  #添加MaxPooling2D层\n",
    "model.add(BatchNormalization()),\n",
    "\n",
    "model.add(Flatten()),  #展平\n",
    "model.add(Dense(512, activation='relu')),\n",
    "model.add(Dense(10, activation='softmax'))"
   ]
  },
  {
   "cell_type": "code",
   "execution_count": 8,
   "id": "5ee25476",
   "metadata": {},
   "outputs": [
    {
     "name": "stdout",
     "output_type": "stream",
     "text": [
      "Model: \"sequential\"\n",
      "_________________________________________________________________\n",
      " Layer (type)                Output Shape              Param #   \n",
      "=================================================================\n",
      " conv2d (Conv2D)             (None, 26, 26, 32)        320       \n",
      "                                                                 \n",
      " conv2d_1 (Conv2D)           (None, 24, 24, 32)        9248      \n",
      "                                                                 \n",
      " max_pooling2d (MaxPooling2D  (None, 12, 12, 32)       0         \n",
      " )                                                               \n",
      "                                                                 \n",
      " batch_normalization (BatchN  (None, 12, 12, 32)       128       \n",
      " ormalization)                                                   \n",
      "                                                                 \n",
      " conv2d_2 (Conv2D)           (None, 10, 10, 64)        18496     \n",
      "                                                                 \n",
      " max_pooling2d_1 (MaxPooling  (None, 5, 5, 64)         0         \n",
      " 2D)                                                             \n",
      "                                                                 \n",
      " batch_normalization_1 (Batc  (None, 5, 5, 64)         256       \n",
      " hNormalization)                                                 \n",
      "                                                                 \n",
      " flatten (Flatten)           (None, 1600)              0         \n",
      "                                                                 \n",
      " dense (Dense)               (None, 256)               409856    \n",
      "                                                                 \n",
      " dense_1 (Dense)             (None, 10)                2570      \n",
      "                                                                 \n",
      "=================================================================\n",
      "Total params: 440,874\n",
      "Trainable params: 440,682\n",
      "Non-trainable params: 192\n",
      "_________________________________________________________________\n"
     ]
    },
    {
     "data": {
      "text/plain": [
       "None"
      ]
     },
     "metadata": {},
     "output_type": "display_data"
    }
   ],
   "source": [
    "# 编译（使用交叉熵作为loss函数）\n",
    "model.compile(optimizer='adam', # 指定优化器\n",
    "             loss='categorical_crossentropy', # 指定损失函数\n",
    "             metrics=['accuracy'])    # 指定验证过程中的评估指标\n",
    "\n",
    "# 展示训练过程\n",
    "display(model.summary())"
   ]
  },
  {
   "cell_type": "code",
   "execution_count": 9,
   "id": "b92e076a",
   "metadata": {},
   "outputs": [],
   "source": [
    "# 数据增强\n",
    "datagen = ImageDataGenerator(rotation_range=15,\n",
    "                            zoom_range=0.01,\n",
    "                            width_shift_range=0.1,\n",
    "                            height_shift_range=0.1)\n",
    "train_gen = datagen.flow(X_train, y_train, batch_size=128)\n",
    "test_gen = datagen.flow(X_test, y_test, batch_size=128)"
   ]
  },
  {
   "cell_type": "code",
   "execution_count": null,
   "id": "8f00b270",
   "metadata": {},
   "outputs": [
    {
     "name": "stdout",
     "output_type": "stream",
     "text": [
      "Epoch 1/30\n"
     ]
    }
   ],
   "source": [
    "# 批量输入的样本数\n",
    "batch_size = 64\n",
    "train_steps = X_train.shape[0] // batch_size\n",
    "valid_steps = X_test.shape[0] // batch_size\n",
    "\n",
    "# 进行30个epoch\n",
    "es = tf.keras.callbacks.EarlyStopping(monitor='val_accuracy',\n",
    "                                     patience=10,\n",
    "                                     verbose=1,\n",
    "                                     mode='max',\n",
    "                                     restore_best_weights=True)\n",
    "\n",
    "rp = tf.keras.callbacks.ReduceLROnPlateau(monitor='val_accuracy',\n",
    "                                         factor=0.2,\n",
    "                                         patience=5,\n",
    "                                         verbose=1,\n",
    "                                         mode='max',\n",
    "                                         min_lr=0.00001)\n",
    "\n",
    "# 训练\n",
    "history = model.fit(train_gen,\n",
    "                   epochs=30,\n",
    "                   steps_per_epoch = train_steps,\n",
    "                   validation_data = test_gen,\n",
    "                   validation_steps = valid_steps,\n",
    "                   callbacks = [es, rp])"
   ]
  },
  {
   "cell_type": "code",
   "execution_count": 4,
   "id": "58b79177",
   "metadata": {},
   "outputs": [],
   "source": [
    "# 上述代码要求电脑配置高"
   ]
  },
  {
   "cell_type": "code",
   "execution_count": null,
   "id": "802116c3",
   "metadata": {},
   "outputs": [],
   "source": []
  }
 ],
 "metadata": {
  "kernelspec": {
   "display_name": "my_env",
   "language": "python",
   "name": "my_env"
  },
  "language_info": {
   "codemirror_mode": {
    "name": "ipython",
    "version": 3
   },
   "file_extension": ".py",
   "mimetype": "text/x-python",
   "name": "python",
   "nbconvert_exporter": "python",
   "pygments_lexer": "ipython3",
   "version": "3.9.17"
  }
 },
 "nbformat": 4,
 "nbformat_minor": 5
}
